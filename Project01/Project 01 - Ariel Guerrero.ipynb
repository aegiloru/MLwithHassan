{
 "cells": [
  {
   "cell_type": "markdown",
   "metadata": {},
   "source": [
    "# Project 01 - MLwithHassan"
   ]
  },
  {
   "cell_type": "raw",
   "metadata": {},
   "source": [
    "# Your task is to read all the text files in any given folder : \n",
    "Folder : /any/folder/ *.txt (All .txt files inside a given folder)\n",
    "\n",
    " After reading the first one, you have to count the number of unique words in the document. You need to ignore the punctuations, numbers and other non relevant stuff (‘!@#). You also have to ignore words like this,is,and,or. \n",
    "#Do this for every subsequent txt file in that folder.\n",
    "\n",
    "# Count the total number of words in each txt file and then save the 10 most frequently occuring words in all of the txt files (in that folder) to a different txt file.\n",
    "\n",
    "Referencias\n",
    "\n",
    "https://stackoverrun.com/es/q/12906476\n",
    "https://sites.google.com/site/jiangangstevenhao/4-my-tutorials/8-log-file-processing\n",
    "https://stackoverflow.com/questions/17218139/print-all-unique-values-in-a-python-dictionary\n",
    "https://www.geeksforgeeks.org/python-sort-python-dictionaries-by-key-or-value/\n",
    "https://stackoverflow.com/questions/613183/how-do-i-sort-a-dictionary-by-value"
   ]
  },
  {
   "cell_type": "code",
   "execution_count": 2,
   "metadata": {},
   "outputs": [
    {
     "name": "stdout",
     "output_type": "stream",
     "text": [
      "['el_quijote.txt', '.ipynb_checkpoints', 'file02.txt', 'file01.txt']\n",
      "['el_quijote.txt', 'file02.txt', 'file01.txt']\n"
     ]
    }
   ],
   "source": [
    "import os\n",
    "\n",
    "workdir = os.getcwd() + \"/txt/\"\n",
    "lst_files = os.listdir(workdir)\n",
    "\n",
    "print(lst_files)\n",
    "\n",
    "# remove dimmed files \n",
    "for i in (lst_files) : \n",
    "    #print(i)\n",
    "    if(i[0] == '.'):\n",
    "        lst_files.remove(i)\n",
    "print(lst_files)"
   ]
  },
  {
   "cell_type": "code",
   "execution_count": 3,
   "metadata": {},
   "outputs": [
    {
     "name": "stdout",
     "output_type": "stream",
     "text": [
      "/Users/arielguerrero/Downloads/workspace/txt/el_quijote.txt\n",
      "/Users/arielguerrero/Downloads/workspace/txt/file02.txt\n",
      "/Users/arielguerrero/Downloads/workspace/txt/file01.txt\n"
     ]
    }
   ],
   "source": [
    "# file_path\n",
    "files_path= []\n",
    "for i in (lst_files) : \n",
    "    print(workdir + i)\n",
    "    files_path.append(workdir + i)\n",
    "#print(files_path)  "
   ]
  },
  {
   "cell_type": "code",
   "execution_count": 135,
   "metadata": {},
   "outputs": [
    {
     "name": "stdout",
     "output_type": "stream",
     "text": [
      "{'le', 'del', 'el', 'esta', 'ya', 'lo', 'de', 'él', 'las', 'no', 'que', 'este', 'su', 'a', 'los', 'un', 'por', 'la', 'me', 'tal', 'en', 'les', 'con', 'se', 'o', 'y'}\n",
      "/Users/arielguerrero/Downloads/workspace/txt/el_quijote.txt\n"
     ]
    }
   ],
   "source": [
    "import sys\n",
    "from collections import Counter\n",
    "\n",
    "\n",
    "def contar(aux):\n",
    "       \"\"\" built-in Counter which is quite a bit faster.\n",
    "       \"\"\"\n",
    "       return Counter(aux)\n",
    "\n",
    "def replace_special_chars(string, chars, replace_char=\" \"):\n",
    "       \"\"\"Replaces a set of characters by another character, a space by default\n",
    "       \"\"\"\n",
    "       for c in chars:\n",
    "           string = string.replace(c, replace_char)\n",
    "       return string\n",
    "\n",
    "special_characters = \"!?¿-.:;-,><=*»¡#\"\n",
    "#this,is,and,or\n",
    "ignore_words = set([\"con\",\"del\",\"su\",\"por\",\"este\", \"esta\", \"y\",\"ya\",\"o\", \"que\", \"tal\",\"me\",\"el\", \"él\",\"lo\",\"la\",\"le\", \"de\", \"en\", \"un\",\"su\", \"a\", \"les\",\"los\",\"las\",\"no\",\"se\"])\n",
    "print(ignore_words)\n",
    "aux = []\n",
    "counts = {}\n",
    "print(files_path[0])\n",
    "## iterate in a for loop to search in all the files\n",
    "## 0 el_quijote.txt\n",
    "## 1 file02.txt\n",
    "## 2 file01.txt\n",
    "## hi, i having a memory issue. “elquijote.txt” could be a really long file. the full book it has 381.104 words \n",
    "## from a set of 22.939 different words and more than 2 million chars. How to implement Batch processing ?\n",
    "## for small files the project 01 it’s working\n",
    "### NOT PRINT the files to avoid crash the Jupyter Notebook, when de file it's too BIG\n",
    "with open(files_path[2], \"r\") as f:\n",
    "    #print(f)\n",
    "    contents = f.read().strip()\n",
    "    aux1 = contents.lower().split()\n",
    "    #print(aux1);\n",
    "    contents = replace_special_chars(contents, special_characters)\n",
    "    aux2 = contents.lower().split()\n",
    "#print(aux2)"
   ]
  },
  {
   "cell_type": "code",
   "execution_count": 136,
   "metadata": {},
   "outputs": [],
   "source": [
    "import operator\n",
    "\n",
    "#print(aux2)\n",
    "counts = contar(aux2)\n",
    "#print(counts)\n",
    "counts = contar(aux2)\n",
    "# Remove Ignore words\n",
    "for r in ignore_words:\n",
    "    counts.pop(r, None)\n",
    "\n",
    "# Order de dict by items in reverse order\n",
    "aux_counts = sorted(counts.items(), key=operator.itemgetter(1),reverse=True)"
   ]
  },
  {
   "cell_type": "code",
   "execution_count": 138,
   "metadata": {},
   "outputs": [
    {
     "name": "stdout",
     "output_type": "stream",
     "text": [
      "0 como 66\n",
      "1 él 59\n",
      "2 quijote 53\n",
      "3 don 49\n",
      "4 caballero 49\n",
      "5 había 48\n",
      "6 era 44\n",
      "7 al 43\n",
      "8 tan 37\n",
      "9 si 37\n"
     ]
    }
   ],
   "source": [
    "# Print the first 10 words more used\n",
    "n = len(aux_counts)\n",
    "for i in range(0,10): \n",
    "    print(i, aux_counts[i][0],aux_counts[i][1])\n"
   ]
  },
  {
   "cell_type": "code",
   "execution_count": null,
   "metadata": {},
   "outputs": [],
   "source": []
  }
 ],
 "metadata": {
  "kernelspec": {
   "display_name": "Python 3",
   "language": "python",
   "name": "python3"
  },
  "language_info": {
   "codemirror_mode": {
    "name": "ipython",
    "version": 3
   },
   "file_extension": ".py",
   "mimetype": "text/x-python",
   "name": "python",
   "nbconvert_exporter": "python",
   "pygments_lexer": "ipython3",
   "version": "3.8.3"
  }
 },
 "nbformat": 4,
 "nbformat_minor": 4
}
